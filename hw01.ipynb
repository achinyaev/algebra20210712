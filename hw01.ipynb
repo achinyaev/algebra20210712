{
 "cells": [
  {
   "cell_type": "markdown",
   "id": "stupid-conservation",
   "metadata": {},
   "source": [
    "## Домашнее задание №1 ##\n",
    "### Линейное пространство. Основные понятия. Часть 1 ###"
   ]
  },
  {
   "cell_type": "markdown",
   "id": "quiet-broadway",
   "metadata": {},
   "source": [
    "**1. Исследовать на линейную зависимость:** $f_{1}(x)=e^{x}, f_{2}(x)=1, f_{3}(x)=x+1, f_{4}(x)=x-e^{x}.$"
   ]
  },
  {
   "cell_type": "markdown",
   "id": "romantic-nerve",
   "metadata": {},
   "source": [
    "Сведем все функции к: $f_{4}(x)=f_{3}(x)-f_{2}(x)-f_{1}(x),$"
   ]
  },
  {
   "cell_type": "markdown",
   "id": "standing-equivalent",
   "metadata": {},
   "source": [
    "следовательно $f_{4}(x)$ — линейная комбинация векторов $f_{1}(x)$, $f_{2}(x)$ и $f_{3}(x)$"
   ]
  },
  {
   "cell_type": "markdown",
   "id": "subjective-harassment",
   "metadata": {},
   "source": [
    "следовательно все четыре функции $f_{1}(x)=e^{x}, f_{2}(x)=1, f_{3}(x)=x+1, f_{4}(x)=x-e^{x}$ линейно зависимы"
   ]
  },
  {
   "cell_type": "markdown",
   "id": "mediterranean-apparatus",
   "metadata": {},
   "source": [
    "**Ответ: функции линейо зависимы**"
   ]
  },
  {
   "cell_type": "markdown",
   "id": "spare-member",
   "metadata": {},
   "source": [
    "**2. Исследовать на линейную зависимость:** $f_{1}(x)=2, f_{2}(x)=x, f_{3}(x)=x^{2}, f_{4}(x)=(x+1)^{2}$"
   ]
  },
  {
   "cell_type": "markdown",
   "id": "public-prairie",
   "metadata": {},
   "source": [
    "Сведем все к функции: $f_{4}(x)=f_{3}(x) + 2 \\cdot f_{2}(x) + \\frac{1}{2} \\cdot f_{1}(x),$\n",
    "\n",
    "следовательно все четыре функции $f_{4}(x)$,$f_{1}(x)$, $f_{2}(x)$ и $f_{3}(x)$  линейно зависимы."
   ]
  },
  {
   "cell_type": "markdown",
   "id": "reflected-hawaiian",
   "metadata": {},
   "source": [
    "**Ответ: функции линейо зависимы**"
   ]
  },
  {
   "cell_type": "markdown",
   "id": "comfortable-topic",
   "metadata": {},
   "source": [
    "**3. Найти координаты вектора** $x = (2, 3, 5)\\in \\mathbb{R}^{3}$ **в базисе** $b_{1}=(0, 0, 10)$, $b_{2}=(2, 0, 0)$, $b_{3}=(0, 1, 0)$."
   ]
  },
  {
   "cell_type": "markdown",
   "id": "substantial-dynamics",
   "metadata": {},
   "source": [
    "Приведем к стандартному базису линейного пространства $\\mathbb{R}^{3}$ образуют векторы \n",
    "$e_{1}=(1, 0, 0)$, $e_{2}=(0, 1, 0)$, $e_{3}=(0, 0, 1)$.\n",
    "\n",
    "$x=(2, 3, 5)=(2,0,0)+(0, 3, 0)+(0, 0, 5)=\\frac{1}{2}\\cdot(1, 0, 0)+1\\cdot(2, 0, 0)+3\\cdot(0, 1, 0)= \\frac{1}{2}b_{1}+b_{2}+3b_{3}$\n",
    "\n",
    "соттветвенно координатами вектора $x$ в базисе $b_{1}=(0, 0, 10)$, $b_{2}=(2, 0, 0)$, $b_{3}=(0, 1, 0)$ являются $\\frac{1}{2}$, $1$, $3$.\n",
    "\n",
    "**Ответ: координатами вектора $x$ ($\\frac{1}{2}$, $1$, $3$).**"
   ]
  },
  {
   "cell_type": "markdown",
   "id": "worldwide-runner",
   "metadata": {},
   "source": [
    "**4. Найти координаты вектора** $3x^{2}-2x+2\\in\\mathbb{R}^{3}[x]$:\n",
    "\n",
    "**а) в базисе** $1$, $x$, $x^{2}$;\n",
    "\n",
    "**б) в базисе** $x^{2}$, $x-1$, $1$."
   ]
  },
  {
   "cell_type": "markdown",
   "id": "impossible-hunger",
   "metadata": {},
   "source": [
    "высчитаем координаты в базисе $3x^{2}-2x+2=3e_{1}-2e_{2}+2e_{3}$"
   ]
  },
  {
   "cell_type": "markdown",
   "id": "interim-doubt",
   "metadata": {},
   "source": [
    "a) координаты вектора $3x^{2}-2x+2\\in\\mathbb{R}^{3}[x]$ в базисе $1$, $x$, $x^{2}$ = (2,-2,3)"
   ]
  },
  {
   "cell_type": "markdown",
   "id": "legal-nightlife",
   "metadata": {},
   "source": [
    "высчитаем координаты в базисе $3x^{2}-2x+2=3e_{1}-2e_{2}+2e_{3} = 3\\cdot x^{2}-2\\cdot(x-1)+2\\cdot1 =3x^{2}-2x$"
   ]
  },
  {
   "cell_type": "markdown",
   "id": "framed-religious",
   "metadata": {},
   "source": [
    "б) координаты вектора $3x^{2}-2x+2\\in\\mathbb{R}^{3}[x]$ в базисе $x^{2}$, $x-1$, $1$ = (3,-2,0)\n",
    "\n",
    "**Ответ: а) (2,-2,3) б) (3,-2,0)**"
   ]
  },
  {
   "cell_type": "markdown",
   "id": "bottom-february",
   "metadata": {},
   "source": [
    "**5. Установить, является ли линейным подпространством:**\n",
    "\n",
    "**а) совокупность всех векторов трехмерного пространства, у которых по крайней мере одна из первых двух координат равна нулю;**\n",
    "\n",
    "**б) все векторы, являющиеся линейными комбинациями данных векторов**  $\\{u_{1}, u_{2}, \\ldots, u_{n}\\}$."
   ]
  },
  {
   "cell_type": "markdown",
   "id": "persistent-sewing",
   "metadata": {},
   "source": [
    "Возьмем два вектора трехмерного пространства, у которых по крайней мере одна из первых двух координат равна нулю:\n",
    "\n",
    "$a_{1}=\\{0, a, b\\},$\n",
    "$a_{2}=\\{с, 0, d\\}$\n",
    "\n",
    "Проверим и мы увидим, что \n",
    " \n",
    "$(0, a, b)+(c, 0, d)=(c, a, b+d),$\n",
    "\n",
    "У этого вектора одна из первых двух координат не всегда будет равна нулю, а значит данное множество не является подпространством линейного пространства $\\mathbb{R}^{3}$."
   ]
  },
  {
   "cell_type": "markdown",
   "id": "metropolitan-richmond",
   "metadata": {},
   "source": [
    "б) Возьмем два вектора, являющиеся линейными комбинациями векторов $\\{u_{1}, u_{2}, \\ldots, u_{n}\\}$ домножив на коэффициенты $\\lambda$ и $\\mu$:\n",
    "\n",
    "$a_{1}=\\lambda_{1}u_{1}+\\lambda_{2}u_{2}+...+\\lambda_{n}u_{n},$ <br>\n",
    "$a_{2}=\\mu_{1}u_{1}+\\mu_{2}u_{2}+...+\\mu_{n}u_{n},$\n",
    "\n",
    "Проведя проверку, мы увидим, что \n",
    " \n",
    "$\\lambda_{1}u_{1}+\\lambda_{2}u_{2}+...+\\lambda_{n}u_{n}+\\mu_{1}u_{1}+\\mu_{2}u_{2}+...+\\mu_{n}u_{n}=(\\lambda_{1}+\\mu_{1})u_{1}+(\\lambda_{2}+\\mu_{2})u_{2}+...(\\lambda_{n}+\\mu_{n})u_{n},$\n",
    "\n",
    "$\\alpha\\cdot (\\lambda_{1}u_{1}+\\lambda_{2}u_{2}+...+\\lambda_{n}u_{n})=\\alpha\\lambda_{1}u_{1}+\\alpha\\lambda_{2}u_{2}+...+\\alpha\\lambda_{n}u_{n},$\n",
    "\n",
    "Полученные вектора принадлежат указанному множеству векторов, то есть это множество является подпространством линейного пространства."
   ]
  },
  {
   "cell_type": "markdown",
   "id": "future-entrance",
   "metadata": {},
   "source": [
    "**Ответ: а) нет б) да.**"
   ]
  },
  {
   "cell_type": "markdown",
   "id": "documented-start",
   "metadata": {},
   "source": [
    "### Линейное пространство. Основные понятия. Часть 2 ###"
   ]
  },
  {
   "cell_type": "markdown",
   "id": "cleared-wholesale",
   "metadata": {},
   "source": [
    "**1. Найти скалярное произведение векторов $x, y \\in \\mathbb{R}$:**\n",
    "\n",
    "**а) $x=(0,-3, 6),~y=(-4, 7, 9);$**\n",
    "\n",
    "**б) $x=(7, -4, 0, 1),~y=(-3, 1, 11, 2).$**"
   ]
  },
  {
   "cell_type": "markdown",
   "id": "critical-snapshot",
   "metadata": {},
   "source": [
    "а) $(x,y)=0\\cdot-4-3\\cdot7+6\\cdot9=33$"
   ]
  },
  {
   "cell_type": "code",
   "execution_count": 1,
   "id": "fitting-appeal",
   "metadata": {},
   "outputs": [
    {
     "name": "stdout",
     "output_type": "stream",
     "text": [
      "Скалярное произведение x и y равно 33\n"
     ]
    }
   ],
   "source": [
    "import numpy as np\n",
    "x = np.array([0, -3, 6])\n",
    "y = np.array([-4, 7, 9])\n",
    "print(f'Скалярное произведение x и y равно {np.dot(x, y)}')"
   ]
  },
  {
   "cell_type": "markdown",
   "id": "portable-facing",
   "metadata": {},
   "source": [
    "б) $(x,y)=7\\cdot-3-4\\cdot1+0\\cdot11+1\\cdot2=-23$"
   ]
  },
  {
   "cell_type": "code",
   "execution_count": 2,
   "id": "adjusted-database",
   "metadata": {},
   "outputs": [
    {
     "name": "stdout",
     "output_type": "stream",
     "text": [
      "Скалярное произведение x и y равно -23\n"
     ]
    }
   ],
   "source": [
    "x = np.array([7, -4, 0, 1])\n",
    "y = np.array([-3, 1, 11, 2])\n",
    "print(f'Скалярное произведение x и y равно {np.dot(x, y)}')"
   ]
  },
  {
   "cell_type": "markdown",
   "id": "behind-suicide",
   "metadata": {},
   "source": [
    "**Ответ: а) 33; б) -23.**"
   ]
  },
  {
   "cell_type": "markdown",
   "id": "found-seating",
   "metadata": {},
   "source": [
    "**2. Найти нормы векторов  (4,2,4)  и  (12,3,4)  и угол между ними.**"
   ]
  },
  {
   "cell_type": "markdown",
   "id": "central-complaint",
   "metadata": {},
   "source": [
    "Найдем евклидову норму вектора $x=(4, 2, 4)$:\n",
    "\n",
    "$\\left\\|x\\right\\|_{2} = \\sqrt{4^{2}+2^{2}+4^{2}}=\\sqrt{36}=6.$"
   ]
  },
  {
   "cell_type": "code",
   "execution_count": 3,
   "id": "protecting-decrease",
   "metadata": {},
   "outputs": [
    {
     "name": "stdout",
     "output_type": "stream",
     "text": [
      "Евклидова норма вектора x равна 6.0\n"
     ]
    }
   ],
   "source": [
    "x = np.array([4, 2, 4])\n",
    "print(f'Евклидова норма вектора x равна {np.linalg.norm(x)}')"
   ]
  },
  {
   "cell_type": "markdown",
   "id": "precise-mexico",
   "metadata": {},
   "source": [
    "Найдем евклидову норму для второго вектора $y=(12, 3, 4)$:\n",
    "\n",
    "$\\left\\|y\\right\\|_{2} = \\sqrt{12^{2}+3^{2}+4^{2}}=13.$"
   ]
  },
  {
   "cell_type": "code",
   "execution_count": 4,
   "id": "sealed-compilation",
   "metadata": {},
   "outputs": [
    {
     "name": "stdout",
     "output_type": "stream",
     "text": [
      "Евклидова норма вектора y равна 13.0\n"
     ]
    }
   ],
   "source": [
    "y = np.array([12, 3, 4])\n",
    "print(f'Евклидова норма вектора y равна {np.linalg.norm(y)}')"
   ]
  },
  {
   "cell_type": "markdown",
   "id": "smaller-universal",
   "metadata": {},
   "source": [
    "Найдем скалярное произведение векторов $(x,y)=4\\cdot12+2\\cdot3+4\\cdot4=70$"
   ]
  },
  {
   "cell_type": "code",
   "execution_count": 5,
   "id": "intensive-security",
   "metadata": {},
   "outputs": [
    {
     "name": "stdout",
     "output_type": "stream",
     "text": [
      "Скалярное произведение векторов x и y равно 70\n"
     ]
    }
   ],
   "source": [
    "print(f'Скалярное произведение векторов x и y равно {np.dot(x, y)}')"
   ]
  },
  {
   "cell_type": "markdown",
   "id": "hungry-double",
   "metadata": {},
   "source": [
    "Косинус угла $\\varphi \\in [0, \\pi]$ между векторами определяется: $cos\\varphi = \\frac{(x,y)}{\\left \\|x\\right \\|\\cdot\\left \\|y\\right \\|}$\n",
    "\n",
    "Расчитаем $cos\\varphi = \\frac{70}{6\\cdot13} = \\frac{70}{78} \\Rightarrow \\varphi = \\arccos\\frac{70}{78} \\approx 0,45687$"
   ]
  },
  {
   "cell_type": "code",
   "execution_count": 6,
   "id": "northern-roads",
   "metadata": {},
   "outputs": [
    {
     "name": "stdout",
     "output_type": "stream",
     "text": [
      "Угол между векторами x и y равен 0.45687400353266105 рад.\n"
     ]
    }
   ],
   "source": [
    "from math import acos\n",
    "print(f'Угол между векторами x и y равен {acos(70/78)} рад.')"
   ]
  },
  {
   "cell_type": "markdown",
   "id": "annoying-diana",
   "metadata": {},
   "source": [
    "**Ответ: 6; 13; ~0.45687 рад.**"
   ]
  },
  {
   "cell_type": "markdown",
   "id": "juvenile-plate",
   "metadata": {},
   "source": [
    "**3. Будет ли линейное пространство евклидовым, если за скалярное произведение принять:**\n",
    "\n",
    "**а) произведение длин векторов;**\n",
    "\n",
    "**б) утроенное обычное скалярное произведение векторов?**"
   ]
  },
  {
   "cell_type": "markdown",
   "id": "automated-revelation",
   "metadata": {},
   "source": [
    "Евклидово пространство в изначальном смысле — это пространство, свойства которого описываются аксиомами евклидовой геометрии.\n",
    "\n",
    "1) $(x,y)=(y,x);$<br>\n",
    "2) $(\\lambda x, y)=\\lambda(x, y);$<br>\n",
    "3) $(x_{1}+x_{2},y)=(x_{1},y)+(x_{2},y);$<br>\n",
    "4) $(x, x)\\geq0$, причем $(x,x)=0\\Leftrightarrow x=0.$"
   ]
  },
  {
   "cell_type": "markdown",
   "id": "daily-nurse",
   "metadata": {},
   "source": [
    "a) Скалярное произведение векторов определено как: $(x,y)=\\left\\|x\\right\\| \\cdot \\left\\|y\\right\\|$\n",
    "\n",
    "$(y,x)=\\left\\|y\\right\\| \\cdot \\left\\|x\\right\\|=(x,y)$, т.е. первая аксиома выполняется\n",
    "\n",
    "$(\\lambda x,y)=\\left\\|\\lambda x\\right\\| \\cdot \\left\\|y\\right\\|= |\\lambda|\\left\\|x\\right\\|\\cdot \\left\\|y\\right\\|=|\\lambda|\\cdot(x,y)$, т.е. при $\\lambda < 0$ вторая аксиома не выполняется, значит линейное пространство **не является** евклидовым."
   ]
  },
  {
   "cell_type": "markdown",
   "id": "orange-intersection",
   "metadata": {},
   "source": [
    "б) Утроенное скалярное произведение выглядит так: $(x,y)=3 \\cdot (x,y) = 3 \\cdot (a_{1}b_{1}+a_{2}b_{2}+...+a_{n}b_{n})$\n",
    "\n",
    "Очевидно что аксиомы выполняются для этого условия, значит линейное пространство является евклидовым."
   ]
  },
  {
   "cell_type": "markdown",
   "id": "according-television",
   "metadata": {},
   "source": [
    "**Ответ: а) не является; б) является.**"
   ]
  },
  {
   "cell_type": "markdown",
   "id": "legendary-skill",
   "metadata": {},
   "source": [
    "**4. Какие из нижеперечисленных векторов образуют ортонормированный базис в линейном пространстве $\\mathbb{R}^{3}$:**\n",
    "\n",
    "**а) $(1,0,0),(0,0,1);$**\n",
    "\n",
    "**б) $(1/\\sqrt{2},-1/\\sqrt{2},0),(1/\\sqrt{2},1/\\sqrt{2},0), (0,0,1);$**\n",
    "\n",
    "**в) $(1/2, -1/2, 0), (0, 1/2, 1/2), (0,0,1);$**\n",
    "\n",
    "**г) $(1,0,0),(0,1,0),(0,0,1)?$**"
   ]
  },
  {
   "cell_type": "markdown",
   "id": "monetary-exclusion",
   "metadata": {},
   "source": [
    "В конечномерном евклидовом пространстве базис $\\{e_{1},e_{2},...,e_{n}\\}$ называется ортонормированным, если \n",
    "\n",
    "### $(e_{i}, e_{j})=0$ $\\forall$ $i\\neq j$ и $(e_{i},e_{i})=1$ $\\forall$ $i\\in[1, n].$ ###"
   ]
  },
  {
   "cell_type": "code",
   "execution_count": 7,
   "id": "promotional-tuesday",
   "metadata": {},
   "outputs": [
    {
     "name": "stdout",
     "output_type": "stream",
     "text": [
      "Скалярное произведение x и y равно 0\n",
      "Скалярное произведение x и x равно 1\n",
      "Скалярное произведение y и y равно 1\n"
     ]
    }
   ],
   "source": [
    "x = np.array([1, 0, 0])\n",
    "y = np.array([0, 0, 1])\n",
    "print(f'Скалярное произведение x и y равно {np.dot(x, y)}')\n",
    "print(f'Скалярное произведение x и x равно {np.dot(x, x)}')\n",
    "print(f'Скалярное произведение y и y равно {np.dot(y, y)}')"
   ]
  },
  {
   "cell_type": "markdown",
   "id": "disturbed-regular",
   "metadata": {},
   "source": [
    "а) Условия выполняются, вектора образуют ортонормированный базис в линейном пространстве $\\mathbb{R}^{3}$."
   ]
  },
  {
   "cell_type": "code",
   "execution_count": 8,
   "id": "universal-russia",
   "metadata": {},
   "outputs": [
    {
     "name": "stdout",
     "output_type": "stream",
     "text": [
      "Скалярное произведение x и y равно 0.0\n",
      "Скалярное произведение x и z равно 0.0\n",
      "Скалярное произведение y и z равно 0.0\n",
      "Скалярное произведение x и x равно 0.9999999999999998\n",
      "Скалярное произведение y и y равно 0.9999999999999998\n",
      "Скалярное произведение z и z равно 1\n"
     ]
    }
   ],
   "source": [
    "x = np.array([1/np.sqrt(2),-1/np.sqrt(2),0])\n",
    "y = np.array([1/np.sqrt(2),1/np.sqrt(2),0])\n",
    "z = np.array([0,0,1])\n",
    "print(f'Скалярное произведение x и y равно {np.dot(x, y)}')\n",
    "print(f'Скалярное произведение x и z равно {np.dot(x, z)}')\n",
    "print(f'Скалярное произведение y и z равно {np.dot(y, z)}')\n",
    "\n",
    "print(f'Скалярное произведение x и x равно {np.dot(x, x)}')\n",
    "print(f'Скалярное произведение y и y равно {np.dot(y, y)}')\n",
    "print(f'Скалярное произведение z и z равно {np.dot(z, z)}')"
   ]
  },
  {
   "cell_type": "markdown",
   "id": "gross-valve",
   "metadata": {},
   "source": [
    "б) Условия выполняются, вектора образуют ортонормированный базис в линейном пространстве $\\mathbb{R}^{3}$."
   ]
  },
  {
   "cell_type": "code",
   "execution_count": 9,
   "id": "architectural-ready",
   "metadata": {},
   "outputs": [
    {
     "name": "stdout",
     "output_type": "stream",
     "text": [
      "Скалярное произведение x и y равно -0.25\n",
      "Скалярное произведение x и z равно 0.0\n",
      "Скалярное произведение y и z равно 0.5\n",
      "Скалярное произведение x и x равно 0.5\n",
      "Скалярное произведение y и y равно 0.5\n",
      "Скалярное произведение z и z равно 1\n"
     ]
    }
   ],
   "source": [
    "x = np.array([1/2, -1/2, 0])\n",
    "y = np.array([0, 1/2, 1/2])\n",
    "z = np.array([0, 0, 1])\n",
    "print(f'Скалярное произведение x и y равно {np.dot(x, y)}')\n",
    "print(f'Скалярное произведение x и z равно {np.dot(x, z)}')\n",
    "print(f'Скалярное произведение y и z равно {np.dot(y, z)}')\n",
    "print(f'Скалярное произведение x и x равно {np.dot(x, x)}')\n",
    "print(f'Скалярное произведение y и y равно {np.dot(y, y)}')\n",
    "print(f'Скалярное произведение z и z равно {np.dot(z, z)}')"
   ]
  },
  {
   "cell_type": "markdown",
   "id": "auburn-italic",
   "metadata": {},
   "source": [
    "в) Условия не выполняются, вектора не образуют ортонормированный базис в линейном пространстве $\\mathbb{R}^{3}$."
   ]
  },
  {
   "cell_type": "code",
   "execution_count": 10,
   "id": "balanced-remedy",
   "metadata": {},
   "outputs": [
    {
     "name": "stdout",
     "output_type": "stream",
     "text": [
      "Скалярное произведение x и y равно 0\n",
      "Скалярное произведение x и z равно 0\n",
      "Скалярное произведение y и z равно 0\n",
      "Скалярное произведение x и x равно 1\n",
      "Скалярное произведение y и y равно 1\n",
      "Скалярное произведение z и z равно 1\n"
     ]
    }
   ],
   "source": [
    "x = np.array([1, 0, 0])\n",
    "y = np.array([0, 1, 0])\n",
    "z = np.array([0, 0, 1])\n",
    "print(f'Скалярное произведение x и y равно {np.dot(x, y)}')\n",
    "print(f'Скалярное произведение x и z равно {np.dot(x, z)}')\n",
    "print(f'Скалярное произведение y и z равно {np.dot(y, z)}')\n",
    "print(f'Скалярное произведение x и x равно {np.dot(x, x)}')\n",
    "print(f'Скалярное произведение y и y равно {np.dot(y, y)}')\n",
    "print(f'Скалярное произведение z и z равно {np.dot(z, z)}')"
   ]
  },
  {
   "cell_type": "markdown",
   "id": "indie-semester",
   "metadata": {},
   "source": [
    "Условия выполняются, вектора образуют ортонормированный базис в линейном пространстве $\\mathbb{R}^{3}$."
   ]
  },
  {
   "cell_type": "markdown",
   "id": "devoted-symbol",
   "metadata": {},
   "source": [
    "**Ответ: а) образуют; б) образуют; в) не образуют; г) образуют.**"
   ]
  },
  {
   "cell_type": "code",
   "execution_count": null,
   "id": "dietary-thirty",
   "metadata": {},
   "outputs": [],
   "source": []
  }
 ],
 "metadata": {
  "kernelspec": {
   "display_name": "Python 3",
   "language": "python",
   "name": "python3"
  },
  "language_info": {
   "codemirror_mode": {
    "name": "ipython",
    "version": 3
   },
   "file_extension": ".py",
   "mimetype": "text/x-python",
   "name": "python",
   "nbconvert_exporter": "python",
   "pygments_lexer": "ipython3",
   "version": "3.8.5"
  }
 },
 "nbformat": 4,
 "nbformat_minor": 5
}
