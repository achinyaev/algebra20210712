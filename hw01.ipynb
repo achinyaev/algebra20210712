{
 "cells": [
  {
   "cell_type": "markdown",
   "id": "difficult-yukon",
   "metadata": {},
   "source": [
    "### Домашнее задание №1 ###\n",
    "**Линейное пространство. Основные понятия. Часть 1**"
   ]
  },
  {
   "cell_type": "markdown",
   "id": "aggressive-dallas",
   "metadata": {},
   "source": [
    "**1. Исследовать на линейную зависимость:** $f_{1}(x)=e^{x}, f_{2}(x)=1, f_{3}(x)=x+1, f_{4}(x)=x-e^{x}.$"
   ]
  },
  {
   "cell_type": "markdown",
   "id": "opponent-selection",
   "metadata": {},
   "source": [
    "Сведем все функции к: $f_{4}(x)=f_{3}(x)-f_{2}(x)-f_{1}(x),$"
   ]
  },
  {
   "cell_type": "markdown",
   "id": "greater-browse",
   "metadata": {},
   "source": [
    "следовательно $f_{4}(x)$ — линейная комбинация векторов $f_{1}(x)$, $f_{2}(x)$ и $f_{3}(x)$"
   ]
  },
  {
   "cell_type": "markdown",
   "id": "unexpected-guinea",
   "metadata": {},
   "source": [
    "следовательно все четыре функции $f_{1}(x)=e^{x}, f_{2}(x)=1, f_{3}(x)=x+1, f_{4}(x)=x-e^{x}$ линейно зависимы"
   ]
  },
  {
   "cell_type": "markdown",
   "id": "fancy-ticket",
   "metadata": {},
   "source": [
    "**Ответ: функции линейо зависимы**"
   ]
  },
  {
   "cell_type": "markdown",
   "id": "least-warning",
   "metadata": {},
   "source": [
    "**2. Исследовать на линейную зависимость:** $f_{1}(x)=2, f_{2}(x)=x, f_{3}(x)=x^{2}, f_{4}(x)=(x+1)^{2}$"
   ]
  },
  {
   "cell_type": "code",
   "execution_count": null,
   "id": "supported-polls",
   "metadata": {},
   "outputs": [],
   "source": []
  }
 ],
 "metadata": {
  "kernelspec": {
   "display_name": "Python 3",
   "language": "python",
   "name": "python3"
  },
  "language_info": {
   "codemirror_mode": {
    "name": "ipython",
    "version": 3
   },
   "file_extension": ".py",
   "mimetype": "text/x-python",
   "name": "python",
   "nbconvert_exporter": "python",
   "pygments_lexer": "ipython3",
   "version": "3.8.5"
  }
 },
 "nbformat": 4,
 "nbformat_minor": 5
}
