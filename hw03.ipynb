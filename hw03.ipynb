{
 "cells": [
  {
   "cell_type": "markdown",
   "metadata": {},
   "source": [
    "## Домашнее задание №3"
   ]
  },
  {
   "cell_type": "markdown",
   "metadata": {},
   "source": [
    "### Линейные преобразования"
   ]
  },
  {
   "cell_type": "markdown",
   "metadata": {},
   "source": [
    "**1. Найти собственные векторы и собственные значения для линейного оператора, заданного матрицей**\n",
    "\n",
    "$$A=\\begin{pmatrix}\n",
    "-1 & -6\\\\ \n",
    "2 & 6\n",
    "\\end{pmatrix}.$$"
   ]
  },
  {
   "cell_type": "markdown",
   "metadata": {},
   "source": [
    "*Найдем собственные значения линейного оператора, решив характеристическое уравнение:*\n",
    "\n",
    " $$\\begin{vmatrix}\n",
    "-1-\\lambda & -6\\\\ \n",
    "2 & 6-\\lambda\n",
    "\\end{vmatrix} = 0,$$\n",
    "\n",
    "$$(-1-\\lambda)(6-\\lambda)+6\\cdot2=0,$$\n",
    "\n",
    "$$\\lambda^{2}-5\\lambda+6=0,$$\n",
    "\n",
    "$$\\lambda_1=3,\\,\\lambda_2=2$$"
   ]
  },
  {
   "cell_type": "markdown",
   "metadata": {},
   "source": [
    "Теперь найдем собственные векторы вида $\\begin{pmatrix}\n",
    "x_{1}\\\\ \n",
    "x_{2}\n",
    "\\end{pmatrix}$, подставив полученное собственное в выражение $\\textbf{A}x=\\lambda x$:\n",
    "\n",
    "$$\\begin{pmatrix}\n",
    "a & b\\\\ \n",
    "c & d\n",
    "\\end{pmatrix}\n",
    "\\begin{pmatrix}\n",
    "x_{1}\\\\ \n",
    "x_{2}\n",
    "\\end{pmatrix}=\n",
    "\\lambda\n",
    "\\begin{pmatrix}\n",
    "x_{1}\\\\ \n",
    "x_{2}\n",
    "\\end{pmatrix}.\n",
    "$$\n",
    "\n",
    "Получаем\n",
    "\n",
    "$$\\begin{cases}\n",
    "ax_{1}+bx_{2}=\\lambda x_{1}, \\\\\n",
    "cx_{1}+dx_{2}=\\lambda x_{2}.\n",
    "\\end{cases}$$ "
   ]
  },
  {
   "cell_type": "markdown",
   "metadata": {},
   "source": [
    "Для $\\lambda_1=3$:\n",
    "\n",
    "### $$\\begin{cases}\n",
    "-x_{1}-6x_{2}=3x_{1}, \\\\\n",
    "2x_{1}+6x_{2}=3x_{2}.\n",
    "\\end{cases}$$\n",
    "\n",
    "### $$\\begin{cases}\n",
    "-4x_{1}-6x_{2}=0, \\\\\n",
    "2x_{1}-4x_{1}+2x_{1}=0;\n",
    "\\end{cases}$$\n",
    "\n",
    "### $$\\begin{cases}\n",
    "-4x_{1}=6x_{2}, \\\\\n",
    "0=0;\n",
    "\\end{cases}$$"
   ]
  },
  {
   "cell_type": "markdown",
   "metadata": {},
   "source": [
    "Система имеет множество решений вида вида $x=\\begin{pmatrix}\n",
    "C\\\\ \n",
    "-\\frac{2}{3}C\n",
    "\\end{pmatrix}$, следовательно собственному значению $\\lambda_1=3$ соответствует множество собственных векторов $x=\\begin{pmatrix}\n",
    "C\\\\ \n",
    "-\\frac{2}{3}C\n",
    "\\end{pmatrix}$, где $C\\neq0$."
   ]
  },
  {
   "cell_type": "markdown",
   "metadata": {},
   "source": [
    "Для $\\lambda_2=2$:\n",
    "\n",
    "### $$\\begin{cases}\n",
    "-x_{1}-6x_{2}=2x_{1}, \\\\\n",
    "2x_{1}+6x_{2}=2x_{2}.\n",
    "\\end{cases}$$\n",
    "\n",
    "### $$\\begin{cases}\n",
    "-3x_{1}-6x_{2}=0, \\\\\n",
    "2x_{1}-3x_{1}+x_{1}=0;\n",
    "\\end{cases}$$\n",
    "\n",
    "### $$\\begin{cases}\n",
    "-3x_{1}=6x_{2}, \\\\\n",
    "0=0;\n",
    "\\end{cases}$$"
   ]
  },
  {
   "cell_type": "markdown",
   "metadata": {},
   "source": [
    "**Система имеет множество решений вида вида** $x=\\begin{pmatrix}\n",
    "C\\\\ \n",
    "-\\frac{1}{2}C\n",
    "\\end{pmatrix}$, **следовательно при $\\lambda_2=2$ соответствует множество собственных векторов** $x=\\begin{pmatrix}\n",
    "C\\\\ \n",
    "-\\frac{1}{2}C\n",
    "\\end{pmatrix}$, **где $C\\neq0$.**"
   ]
  },
  {
   "cell_type": "markdown",
   "metadata": {},
   "source": [
    "**Проверка с помощью numpyна Python**"
   ]
  },
  {
   "cell_type": "code",
   "execution_count": 1,
   "metadata": {},
   "outputs": [
    {
     "name": "stdout",
     "output_type": "stream",
     "text": [
      "Матрица A:\n",
      "[[-1 -6]\n",
      " [ 2  6]]\n",
      "\n",
      "Собственные значения:\n",
      "[2. 3.]\n",
      "\n",
      "Собственные векторы:\n",
      "[[-0.89442719  0.83205029]\n",
      " [ 0.4472136  -0.5547002 ]]\n",
      "\n"
     ]
    }
   ],
   "source": [
    "import numpy as np\n",
    "\n",
    "A = np.array([[-1, -6], [2, 6]])\n",
    "w, v = np.linalg.eig(A)\n",
    "\n",
    "print(f'Матрица A:\\n{A}\\n')\n",
    "print(f'Собственные значения:\\n{w}\\n')\n",
    "print(f'Собственные векторы:\\n{v}\\n')\n"
   ]
  },
  {
   "cell_type": "code",
   "execution_count": 2,
   "metadata": {},
   "outputs": [
    {
     "name": "stdout",
     "output_type": "stream",
     "text": [
      "Cобственный вектор x1:\n",
      "[ 1.         -0.66666667]\n",
      "\n",
      "Проверка x1 (A*x1=3*x1):\n",
      "[ 3. -2.]=[ 3. -2.]\n",
      "\n"
     ]
    }
   ],
   "source": [
    "x1=np.array([1, -2/3])\n",
    "print(f'Cобственный вектор x1:\\n{x1}\\n')\n",
    "print(f'Проверка x1 (A*x1=3*x1):\\n{A.dot(x1)}={3*x1}\\n')\n"
   ]
  },
  {
   "cell_type": "code",
   "execution_count": 3,
   "metadata": {},
   "outputs": [
    {
     "name": "stdout",
     "output_type": "stream",
     "text": [
      "Cобственный вектор x2:\n",
      "[ 1.  -0.5]\n",
      "\n",
      "Проверка x2 (A*x2=2*x2):\n",
      "[ 2. -1.]=[ 2. -1.]\n"
     ]
    }
   ],
   "source": [
    "x2=np.array([1, -1/2])\n",
    "print(f'Cобственный вектор x2:\\n{x2}\\n')\n",
    "print(f'Проверка x2 (A*x2=2*x2):\\n{A.dot(x2)}={2*x2}')"
   ]
  },
  {
   "cell_type": "markdown",
   "metadata": {},
   "source": [
    "### __Ответ:__ cобственные значения $3$, $2$; cобственные векторы $\\begin{pmatrix}\n",
    "C\\\\ \n",
    "-\\frac{2}{3}C\n",
    "\\end{pmatrix}$, где $C\\neq0$, $\\begin{pmatrix}\n",
    "C\\\\ \n",
    "-\\frac{1}{2}C\n",
    "\\end{pmatrix}$, где $C\\neq0$."
   ]
  },
  {
   "cell_type": "markdown",
   "metadata": {},
   "source": [
    "**2. Дан оператор поворота на 180 градусов, задаваемый матрицей:**\n",
    "\n",
    "$$A=\\begin{pmatrix}\n",
    "-1 & 0\\\\ \n",
    "0 & -1\n",
    "\\end{pmatrix}.$$\n",
    "\n",
    "**Показать, что любой вектор является для него собственным.**"
   ]
  },
  {
   "cell_type": "markdown",
   "metadata": {},
   "source": [
    "Найдем собственные значения линейного оператора, составив и решив характеристическое уравнение:\n",
    "\n",
    "### $$\\begin{vmatrix}\n",
    "-1-\\lambda & 0\\\\ \n",
    "0 & -1-\\lambda\n",
    "\\end{vmatrix} = 0,$$\n",
    "\n",
    "### $$(-1-\\lambda)^2=0,$$\n",
    "\n",
    "### $$\\lambda_{1,2}=-1.$$"
   ]
  },
  {
   "cell_type": "markdown",
   "metadata": {},
   "source": [
    "Cобственные векторы:\n",
    "\n",
    "### $$\\begin{cases}\n",
    "ax_{1}+bx_{2}=\\lambda x_{1}, \\\\\n",
    "cx_{1}+dx_{2}=\\lambda x_{2}.\n",
    "\\end{cases}$$ \n",
    "\n",
    "### $$\\begin{cases}\n",
    "-x_{1}=-x_{1}, \\\\\n",
    "-x_{2}=-x_{2}.\n",
    "\\end{cases}$$ "
   ]
  },
  {
   "cell_type": "markdown",
   "metadata": {},
   "source": [
    "**Ответ: Система имеет множество решений, а значит любой ненулевой вектор является собственным вектором оператора.**"
   ]
  },
  {
   "cell_type": "markdown",
   "metadata": {},
   "source": [
    "**3. Пусть линейный оператор задан матрицей:**\n",
    "\n",
    "$$A=\\begin{pmatrix}\n",
    "1 & 1\\\\ \n",
    "-1 & 3\n",
    "\\end{pmatrix}.$$\n",
    "\n",
    "**Установить, является ли вектор $x=(1,1)$ собственным вектором этого линейного оператора.**"
   ]
  },
  {
   "cell_type": "markdown",
   "metadata": {},
   "source": [
    "Предположим, что $x$ является собственным вектором заданного линейного оператора, тогда должно существовать вещественное число $\\lambda$, при котором:\n",
    "\n",
    "### $$\\begin{pmatrix}\n",
    "1 & 1\\\\ \n",
    "-1 & 3\n",
    "\\end{pmatrix}\n",
    "\\begin{pmatrix}\n",
    "1\\\\ \n",
    "1 \n",
    "\\end{pmatrix}=\n",
    "\\lambda\n",
    "\\begin{pmatrix}\n",
    "1\\\\ \n",
    "1\n",
    "\\end{pmatrix}.\n",
    "$$\n",
    "\n",
    "Cледовательно: \n",
    "\n",
    "### $$\\begin{cases}\n",
    "1+1=1\\cdot\\lambda \\\\ \n",
    "-1+3 =1\\cdot \\lambda\n",
    "\\end{cases}\n",
    "\\Rightarrow\n",
    "\\begin{cases}\n",
    "\\lambda=2\\\\ \n",
    "\\lambda=2\n",
    "\\end{cases}.$$\n",
    "\n",
    "Вектор $x=(1,1)$ является собственным вектором линейного оператора, заданного матрицей $A$ и его собственное значение составляет $\\lambda=2.$"
   ]
  },
  {
   "cell_type": "code",
   "execution_count": 4,
   "metadata": {},
   "outputs": [
    {
     "name": "stdout",
     "output_type": "stream",
     "text": [
      "Матрица A:\n",
      "[[ 1  1]\n",
      " [-1  3]]\n",
      "\n"
     ]
    }
   ],
   "source": [
    "A = np.array([[1, 1], [-1, 3]])\n",
    "w, v = np.linalg.eig(A)\n",
    "\n",
    "print(f'Матрица A:\\n{A}\\n')"
   ]
  },
  {
   "cell_type": "code",
   "execution_count": 5,
   "metadata": {},
   "outputs": [
    {
     "name": "stdout",
     "output_type": "stream",
     "text": [
      "Собственные значения:\n",
      "[2.00000002 1.99999998]\n",
      "\n"
     ]
    }
   ],
   "source": [
    "print(f'Собственные значения:\\n{w}\\n')"
   ]
  },
  {
   "cell_type": "code",
   "execution_count": 6,
   "metadata": {},
   "outputs": [
    {
     "name": "stdout",
     "output_type": "stream",
     "text": [
      "Собственные векторы:\n",
      "[[ 0.70710677 -0.70710679]\n",
      " [ 0.70710679 -0.70710677]]\n",
      "\n"
     ]
    }
   ],
   "source": [
    "print(f'Собственные векторы:\\n{v}\\n')"
   ]
  },
  {
   "cell_type": "markdown",
   "metadata": {},
   "source": [
    "**Ответ: является.**"
   ]
  },
  {
   "cell_type": "markdown",
   "metadata": {},
   "source": [
    "**4. Пусть линейный оператор задан матрицей:**\n",
    "\n",
    "$$A=\\begin{pmatrix}\n",
    "0 & 3 & 0\\\\ \n",
    "3 & 0 & 0\\\\\n",
    "0 & 0 & 3\n",
    "\\end{pmatrix}.$$\n",
    "\n",
    "**Установить, является ли вектор $x=(3, -3, -4)$ собственным вектором этого линейного оператора.**"
   ]
  },
  {
   "cell_type": "markdown",
   "metadata": {},
   "source": [
    "Предположим, что вектор $x$ является собственным этого заданного линейного оператора, тогда должно существовать вещественное число $\\lambda$, при котором:\n",
    "\n",
    "$$\\begin{pmatrix}\n",
    "0 & 3 & 0\\\\ \n",
    "3 & 0 & 0\\\\\n",
    "0 & 0 & 3\n",
    "\\end{pmatrix}\n",
    "\\begin{pmatrix}\n",
    "3\\\\\n",
    "-3\\\\\n",
    "-4\n",
    "\\end{pmatrix}=\n",
    "\\lambda\n",
    "\\begin{pmatrix}\n",
    "3\\\\\n",
    "-3\\\\\n",
    "-4\n",
    "\\end{pmatrix}\n",
    "$$\n",
    "\n",
    "$$\\Rightarrow\n",
    "\\begin{cases}\n",
    "3\\lambda=-9\\\\ \n",
    "-3\\lambda=9\\\\\n",
    "-4\\lambda=-12\n",
    "\\end{cases}\n",
    "\\Rightarrow\n",
    "\\begin{cases}\n",
    "\\lambda=-3\\\\ \n",
    "\\lambda=-3\\\\\n",
    "\\lambda=3\n",
    "\\end{cases}.$$\n",
    "\n",
    "Получененная система не имеет смысла, следовательно, вектор $x=(3,-3, -4)$ не является собственным вектором линейного оператора, заданного матрицей $A$."
   ]
  },
  {
   "cell_type": "code",
   "execution_count": 7,
   "metadata": {},
   "outputs": [
    {
     "name": "stdout",
     "output_type": "stream",
     "text": [
      "Матрица A:\n",
      "[[0 3 0]\n",
      " [3 0 0]\n",
      " [0 0 3]]\n"
     ]
    }
   ],
   "source": [
    "A = np.array([[0, 3, 0], [3, 0, 0], [0, 0, 3]])\n",
    "w, v = np.linalg.eig(A)\n",
    "\n",
    "print(f'Матрица A:\\n{A}')"
   ]
  },
  {
   "cell_type": "code",
   "execution_count": 8,
   "metadata": {},
   "outputs": [
    {
     "name": "stdout",
     "output_type": "stream",
     "text": [
      "Собственные значения:\n",
      "[ 3. -3.  3.]\n"
     ]
    }
   ],
   "source": [
    "print(f'Собственные значения:\\n{w}')\n"
   ]
  },
  {
   "cell_type": "code",
   "execution_count": 9,
   "metadata": {},
   "outputs": [
    {
     "name": "stdout",
     "output_type": "stream",
     "text": [
      "Собственные векторы:\n",
      "[[ 0.70710678 -0.70710678  0.        ]\n",
      " [ 0.70710678  0.70710678  0.        ]\n",
      " [ 0.          0.          1.        ]]\n"
     ]
    }
   ],
   "source": [
    "print(f'Собственные векторы:\\n{v}')"
   ]
  },
  {
   "cell_type": "markdown",
   "metadata": {},
   "source": [
    "**Ответ: не является."
   ]
  }
 ],
 "metadata": {
  "kernelspec": {
   "display_name": "Python 3",
   "language": "python",
   "name": "python3"
  },
  "language_info": {
   "codemirror_mode": {
    "name": "ipython",
    "version": 3
   },
   "file_extension": ".py",
   "mimetype": "text/x-python",
   "name": "python",
   "nbconvert_exporter": "python",
   "pygments_lexer": "ipython3",
   "version": "3.8.5"
  }
 },
 "nbformat": 4,
 "nbformat_minor": 4
}
